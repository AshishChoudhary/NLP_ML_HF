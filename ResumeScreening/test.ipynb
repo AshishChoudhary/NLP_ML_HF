{
 "cells": [
  {
   "cell_type": "code",
   "execution_count": 1,
   "metadata": {},
   "outputs": [],
   "source": [
    "# Folder paths\n",
    "resume_folder = './resumes/'\n",
    "jd_folder = './jds/'"
   ]
  },
  {
   "cell_type": "code",
   "execution_count": 3,
   "metadata": {},
   "outputs": [
    {
     "name": "stdout",
     "output_type": "stream",
     "text": [
      "AmaranathReddy[5y_6m].docx\n",
      "AnaghV[6y_0m].pdf\n",
      "AnjuMohan[5y_3m].pdf\n",
      "Antara Saha.pdf\n",
      "Ashwini B Shejal - Bangalore - Vy.pdf\n",
      "BisanaKishore[5y_3m].pdf\n",
      "DHEENA DHAYALAN S_.Net Core Developer.docx\n",
      "DURAIRAJ SUGUMARAN8y_0m.pdf\n",
      "Janaki[8y_5m].pdf\n",
      "Kranthi Kumar.docx\n",
      "Mallinath Shivanand Kunale - Bengaluru - Vy.pdf\n",
      "ManikandanS[8y_0m].docx\n",
      "Neeraj Krishnan V.docx\n",
      "Paul Raj S.pdf\n",
      "Pradyumna Resume.pdf\n",
      "RamkumarR[8y_0m].pdf\n",
      "Sampath Kumar .R.pdf\n",
      "ShalabhSrivastava[6y_0m].pdf\n",
      "Shilpa Agarwal.pdf\n",
      "Vijayalakshmi Mohanan - Bangalore - Vy.pdf\n",
      "Yashasvi S N_Dot Net.pdf\n"
     ]
    }
   ],
   "source": [
    "import os\n",
    "files = os.listdir(resume_folder)\n",
    "for file_name in files:\n",
    "        print(file_name)"
   ]
  }
 ],
 "metadata": {
  "kernelspec": {
   "display_name": "Python 3",
   "language": "python",
   "name": "python3"
  },
  "language_info": {
   "codemirror_mode": {
    "name": "ipython",
    "version": 3
   },
   "file_extension": ".py",
   "mimetype": "text/x-python",
   "name": "python",
   "nbconvert_exporter": "python",
   "pygments_lexer": "ipython3",
   "version": "3.11.0"
  }
 },
 "nbformat": 4,
 "nbformat_minor": 2
}
